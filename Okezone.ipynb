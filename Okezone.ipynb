{
  "nbformat": 4,
  "nbformat_minor": 0,
  "metadata": {
    "colab": {
      "name": "Okezone.ipynb",
      "provenance": [],
      "collapsed_sections": []
    },
    "kernelspec": {
      "name": "python3",
      "display_name": "Python 3"
    }
  },
  "cells": [
    {
      "cell_type": "markdown",
      "metadata": {
        "id": "SIQKs_1ToKRC",
        "colab_type": "text"
      },
      "source": [
        "Okezone.com Scraping with BeautifulSoup\n",
        "\n",
        "Bagus Setiawan       - 171401012\n",
        "\n",
        "Weliansyah Arundhani - 171401018\n",
        "\n",
        "Charli               - 171401066\n",
        "\n",
        "Rafley Husein Alwi   - 171401093"
      ]
    },
    {
      "cell_type": "code",
      "metadata": {
        "id": "YnaHalCRRO2M",
        "colab_type": "code",
        "outputId": "709e1e26-5a49-4152-ecd4-c94d1f83905e",
        "colab": {
          "base_uri": "https://localhost:8080/",
          "height": 108
        }
      },
      "source": [
        "pip install requests"
      ],
      "execution_count": 2,
      "outputs": [
        {
          "output_type": "stream",
          "text": [
            "Requirement already satisfied: requests in /usr/local/lib/python3.6/dist-packages (2.23.0)\n",
            "Requirement already satisfied: certifi>=2017.4.17 in /usr/local/lib/python3.6/dist-packages (from requests) (2020.4.5.1)\n",
            "Requirement already satisfied: idna<3,>=2.5 in /usr/local/lib/python3.6/dist-packages (from requests) (2.9)\n",
            "Requirement already satisfied: chardet<4,>=3.0.2 in /usr/local/lib/python3.6/dist-packages (from requests) (3.0.4)\n",
            "Requirement already satisfied: urllib3!=1.25.0,!=1.25.1,<1.26,>=1.21.1 in /usr/local/lib/python3.6/dist-packages (from requests) (1.24.3)\n"
          ],
          "name": "stdout"
        }
      ]
    },
    {
      "cell_type": "code",
      "metadata": {
        "id": "UKuUd2RORw58",
        "colab_type": "code",
        "outputId": "6f69b32e-f061-4e36-e964-b5f60408d2aa",
        "colab": {
          "base_uri": "https://localhost:8080/",
          "height": 35
        }
      },
      "source": [
        "pip install beautifulsoup4"
      ],
      "execution_count": 3,
      "outputs": [
        {
          "output_type": "stream",
          "text": [
            "Requirement already satisfied: beautifulsoup4 in /usr/local/lib/python3.6/dist-packages (4.6.3)\n"
          ],
          "name": "stdout"
        }
      ]
    },
    {
      "cell_type": "code",
      "metadata": {
        "id": "yebsiiAxRyo6",
        "colab_type": "code",
        "colab": {}
      },
      "source": [
        "import requests\n",
        "from bs4 import BeautifulSoup\n",
        "from csv import writer"
      ],
      "execution_count": 0,
      "outputs": []
    },
    {
      "cell_type": "code",
      "metadata": {
        "id": "hr2kAW7JR14a",
        "colab_type": "code",
        "outputId": "d73c613c-eba4-46ec-e2ba-29efb6816f8e",
        "colab": {
          "base_uri": "https://localhost:8080/",
          "height": 35
        }
      },
      "source": [
        "from google.colab import drive\n",
        "drive.mount('/gdrive')"
      ],
      "execution_count": 5,
      "outputs": [
        {
          "output_type": "stream",
          "text": [
            "Drive already mounted at /gdrive; to attempt to forcibly remount, call drive.mount(\"/gdrive\", force_remount=True).\n"
          ],
          "name": "stdout"
        }
      ]
    },
    {
      "cell_type": "code",
      "metadata": {
        "id": "WZJILtzoU4zB",
        "colab_type": "code",
        "colab": {}
      },
      "source": [
        "with open('../gdrive/My Drive/Okezone_news.csv', 'w+') as csv_file:\n",
        "    csv_writer = writer(csv_file)\n",
        "    headers = ['Tanggal Berita', 'Judul', 'Penulis Berita', 'Isi Berita', 'Kategori', 'Link Berita']\n",
        "    csv_writer.writerow(headers)\n",
        "\n",
        "def crawl_okezone(url):\n",
        "    for i in range(1,62):\n",
        "        with open('../gdrive/My Drive/Okezone_news.csv', 'a') as csv_file:\n",
        "            csv_writer = writer(csv_file)\n",
        "\n",
        "            print (url+str(i))\n",
        "            page = requests.get(url+str(i))\n",
        "            soup = BeautifulSoup(page.content, 'html.parser')\n",
        "            \n",
        "\n",
        "            rows = soup.find_all(\"div\", {\"class\" :\"tag-wrapper\"})\n",
        "            for row in rows:\n",
        "                try:\n",
        "                    judul = row.find(\"div\", {\"class\" :\"quotes\"}).a.get_text().replace('\\n', '')\n",
        "                except Exception:\n",
        "                    judul = \"<empty>\"\n",
        "\n",
        "                try:\n",
        "                    tanggal = row.find(\"div\", {\"class\" :\"media-time\"}).get_text().replace('\\n', '')\n",
        "                except Exception:\n",
        "                    tanggal = \"Tidak Ditemukan\"\n",
        "\n",
        "                try:\n",
        "                    link =row.find(\"div\", {\"class\" :\"media-row\"}).a.get(\"href\")\n",
        "                except Exception:\n",
        "                    link = \"<empty>\"\n",
        "                \n",
        "                try:\n",
        "                    kategori = row.find(\"div\", {\"class\" :\"media-heading sektor-rill\"}).get_text().replace('\\n', '')\n",
        "                except Exception:\n",
        "                    kategori = \"News\"\n",
        "\n",
        "                page2 = requests.get(link)\n",
        "                soup2 = BeautifulSoup(page2.content, 'html.parser')\n",
        "                rows2 = soup2.find(\"div\", {\"class\" :\"container-bodyhome-left\"})\n",
        "\n",
        "                try:\n",
        "                    reporter = rows2.find(\"div\", {\"class\" :\"namerep\"}).get_text().replace('\\n','')\n",
        "                except Exception:\n",
        "                    reporter = \"Kosong\"\n",
        "\n",
        "                    \n",
        "                try:\n",
        "                    konten = rows2.find(\"div\", {\"class\" :\"read\"}).get_text().replace('\\n', ' ')\n",
        "                except Exception:\n",
        "                    konten = \"<empty>\"\n",
        "                \n",
        "                jurnalis = reporter.replace('                        ','')\n",
        "                jurnalisfix = jurnalis.replace(',          Jurnalis&CenterDotSenin 18 Mei 2020 13:55 WIB','')\n",
        "                \n",
        "                csv_writer.writerow([tanggal, judul, jurnalisfix, konten, kategori, link])"
      ],
      "execution_count": 0,
      "outputs": []
    },
    {
      "cell_type": "code",
      "metadata": {
        "id": "snec53e3XKnh",
        "colab_type": "code",
        "outputId": "edc4d811-c696-4663-a45b-519bf0bc3a22",
        "colab": {
          "base_uri": "https://localhost:8080/",
          "height": 1000
        }
      },
      "source": [
        "crawl_okezone(\"https://www.okezone.com/tag/corona/\")"
      ],
      "execution_count": 9,
      "outputs": [
        {
          "output_type": "stream",
          "text": [
            "https://www.okezone.com/tag/corona/1\n",
            "https://www.okezone.com/tag/corona/2\n",
            "https://www.okezone.com/tag/corona/3\n",
            "https://www.okezone.com/tag/corona/4\n",
            "https://www.okezone.com/tag/corona/5\n",
            "https://www.okezone.com/tag/corona/6\n",
            "https://www.okezone.com/tag/corona/7\n",
            "https://www.okezone.com/tag/corona/8\n",
            "https://www.okezone.com/tag/corona/9\n",
            "https://www.okezone.com/tag/corona/10\n",
            "https://www.okezone.com/tag/corona/11\n",
            "https://www.okezone.com/tag/corona/12\n",
            "https://www.okezone.com/tag/corona/13\n",
            "https://www.okezone.com/tag/corona/14\n",
            "https://www.okezone.com/tag/corona/15\n",
            "https://www.okezone.com/tag/corona/16\n",
            "https://www.okezone.com/tag/corona/17\n",
            "https://www.okezone.com/tag/corona/18\n",
            "https://www.okezone.com/tag/corona/19\n",
            "https://www.okezone.com/tag/corona/20\n",
            "https://www.okezone.com/tag/corona/21\n",
            "https://www.okezone.com/tag/corona/22\n",
            "https://www.okezone.com/tag/corona/23\n",
            "https://www.okezone.com/tag/corona/24\n",
            "https://www.okezone.com/tag/corona/25\n",
            "https://www.okezone.com/tag/corona/26\n",
            "https://www.okezone.com/tag/corona/27\n",
            "https://www.okezone.com/tag/corona/28\n",
            "https://www.okezone.com/tag/corona/29\n",
            "https://www.okezone.com/tag/corona/30\n",
            "https://www.okezone.com/tag/corona/31\n",
            "https://www.okezone.com/tag/corona/32\n",
            "https://www.okezone.com/tag/corona/33\n",
            "https://www.okezone.com/tag/corona/34\n",
            "https://www.okezone.com/tag/corona/35\n",
            "https://www.okezone.com/tag/corona/36\n",
            "https://www.okezone.com/tag/corona/37\n",
            "https://www.okezone.com/tag/corona/38\n",
            "https://www.okezone.com/tag/corona/39\n",
            "https://www.okezone.com/tag/corona/40\n",
            "https://www.okezone.com/tag/corona/41\n",
            "https://www.okezone.com/tag/corona/42\n",
            "https://www.okezone.com/tag/corona/43\n",
            "https://www.okezone.com/tag/corona/44\n",
            "https://www.okezone.com/tag/corona/45\n",
            "https://www.okezone.com/tag/corona/46\n",
            "https://www.okezone.com/tag/corona/47\n",
            "https://www.okezone.com/tag/corona/48\n",
            "https://www.okezone.com/tag/corona/49\n",
            "https://www.okezone.com/tag/corona/50\n",
            "https://www.okezone.com/tag/corona/51\n",
            "https://www.okezone.com/tag/corona/52\n",
            "https://www.okezone.com/tag/corona/53\n",
            "https://www.okezone.com/tag/corona/54\n",
            "https://www.okezone.com/tag/corona/55\n",
            "https://www.okezone.com/tag/corona/56\n",
            "https://www.okezone.com/tag/corona/57\n",
            "https://www.okezone.com/tag/corona/58\n",
            "https://www.okezone.com/tag/corona/59\n",
            "https://www.okezone.com/tag/corona/60\n",
            "https://www.okezone.com/tag/corona/61\n"
          ],
          "name": "stdout"
        }
      ]
    }
  ]
}